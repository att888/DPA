{
 "cells": [
  {
   "cell_type": "markdown",
   "id": "c201bd7d",
   "metadata": {},
   "source": [
    "# DPA (BiLSTM-BiLSTM, VGG-CNN)"
   ]
  },
  {
   "cell_type": "code",
   "execution_count": 1,
   "id": "2a28f2a7",
   "metadata": {},
   "outputs": [
    {
     "name": "stdout",
     "output_type": "stream",
     "text": [
      "Enter '1. single' for single dataset or '2. multi' for multiple dataset: 2\n"
     ]
    }
   ],
   "source": [
    "import tensorflow as tf\n",
    "\n",
    "import cv2\n",
    "import matplotlib.pyplot as plt\n",
    "import numpy as np\n",
    "import os\n",
    "import pandas as pd\n",
    "import re\n",
    "from keras.callbacks import EarlyStopping\n",
    "from keras.layers import (Activation, Attention, Bidirectional, Concatenate, Conv1D,\n",
    "                           Dense, Dropout, Embedding, Flatten, GlobalMaxPooling1D,\n",
    "                           Input, Layer, LSTM, MaxPooling1D, Multiply, Permute,\n",
    "                           RepeatVector, Reshape, SpatialDropout1D, TimeDistributed)\n",
    "from keras.models import Model\n",
    "from keras import backend as K\n",
    "from keras.preprocessing.text import Tokenizer\n",
    "from keras.utils import to_categorical\n",
    "from sklearn.metrics import accuracy_score, classification_report, confusion_matrix\n",
    "from sklearn.model_selection import train_test_split\n",
    "from tensorflow.keras.preprocessing.sequence import pad_sequences\n",
    "from nltk.corpus import stopwords\n",
    "\n",
    "import sys\n",
    "sys.path.append('./cs16')\n",
    "import cs16.prep as prep16\n",
    "import cs16.plot as plot16\n",
    "import cs16.build as build16\n",
    "imagesize = 64\n",
    "\n",
    "import pandas as pd\n",
    "\n",
    "data_type = input(\"Enter '1. single' for single dataset or '2. multi' for multiple dataset: \")\n",
    "\n",
    "if data_type == '1':\n",
    "    file_path = 'single.txt'\n",
    "    folder_path = './data/MVSA/single/'\n",
    "elif data_type == '2':\n",
    "    file_path = 'multi.txt'\n",
    "    folder_path = './data/MVSA/multiple/'\n",
    "else:\n",
    "    print(\"Invalid input. Please enter either 'single' or 'multi'.\")\n",
    "    exit()\n",
    "\n",
    "df = pd.read_csv(file_path, index_col=None, encoding='ISO-8859-1')"
   ]
  },
  {
   "cell_type": "code",
   "execution_count": 2,
   "id": "49123e3d",
   "metadata": {},
   "outputs": [
    {
     "name": "stderr",
     "output_type": "stream",
     "text": [
      "[nltk_data] Downloading package stopwords to\n",
      "[nltk_data]     C:\\Users\\ausco\\AppData\\Roaming\\nltk_data...\n",
      "[nltk_data]   Package stopwords is already up-to-date!\n",
      "[nltk_data] Downloading package punkt to\n",
      "[nltk_data]     C:\\Users\\ausco\\AppData\\Roaming\\nltk_data...\n",
      "[nltk_data]   Package punkt is already up-to-date!\n"
     ]
    }
   ],
   "source": [
    "import re\n",
    "import nltk\n",
    "from nltk.corpus import stopwords\n",
    "from nltk.stem import PorterStemmer\n",
    "from nltk.tokenize import word_tokenize\n",
    "import pandas as pd\n",
    "import matplotlib.pyplot as plt\n",
    "# Download stopwords and punkt tokenizer if not already downloaded\n",
    "nltk.download('stopwords')\n",
    "nltk.download('punkt')\n",
    "\n",
    "#----------------------------------------------------\n",
    "# NLP preprocess\n",
    "#----------------------------------------------------\n",
    "# Define a function to preprocess text\n",
    "def nlp_text(text):\n",
    "    # Convert text to lowercase\n",
    "    text = text.lower()\n",
    "    \n",
    "    # Remove URLs \n",
    "    text = re.sub(r'http\\S+', '', text)\n",
    "    # Remove punctuation\n",
    "    text = re.sub(r'[^\\w\\s]', '', text)\n",
    "    \n",
    "    # Tokenize text into individual words\n",
    "    words = word_tokenize(text)\n",
    "    \n",
    "    # Remove stopwords\n",
    "    stop_words = set(stopwords.words('english'))\n",
    "    words = [word for word in words if word not in stop_words]\n",
    "    \n",
    "    # Stem words using Porter Stemmer\n",
    "    stemmer = PorterStemmer()\n",
    "    words = [stemmer.stem(word) for word in words]\n",
    "    \n",
    "    # Join words back into a single string\n",
    "    text = ' '.join(words)\n",
    "    \n",
    "    return text\n",
    "\n",
    "\n",
    "# Apply the preprocess_text function to the 'tweet' column of the dataframe\n",
    "df['tweet'] = df['tweet'].apply(nlp_text)"
   ]
  },
  {
   "cell_type": "code",
   "execution_count": 3,
   "id": "3e5e4873",
   "metadata": {},
   "outputs": [
    {
     "data": {
      "text/plain": [
       "'multi.txt'"
      ]
     },
     "execution_count": 3,
     "metadata": {},
     "output_type": "execute_result"
    }
   ],
   "source": [
    "X_text, y_text = prep16.preprocess_text(df)\n",
    "X_train_text, X_val_text, X_test_text, \\\n",
    "y_train_text, y_val_text, y_test_text = prep16.split_data(X_text, y_text, random_state=42)\n",
    "\n",
    "X_polar, y_polar = prep16.preprocess_text(df,label = 'polarity')\n",
    "X_train_polar, X_val_polar, X_test_polar, \\\n",
    "y_train_polar, y_val_polar, y_test_polar = prep16.split_data(X_polar, y_polar, random_state=42)\n",
    "\n",
    "image_data_s, image_label_s = prep16.preprocess_images(df, folder_path, imagesize)\n",
    "y_s = to_categorical(image_label_s, num_classes=3)\n",
    "\n",
    "X_train_image, X_val_image, X_test_image, \\\n",
    "y_train_image, y_val_image, y_test_image= prep16.split_data(image_data_s, y_s, random_state=42)\n",
    "\n",
    "y_train = to_categorical(y_train_polar, num_classes=3)\n",
    "y_val =to_categorical(y_val_polar, num_classes=3)\n",
    "y_test =to_categorical(y_test_polar, num_classes=3)\n",
    "file_path"
   ]
  },
  {
   "cell_type": "code",
   "execution_count": 4,
   "id": "39837047",
   "metadata": {},
   "outputs": [
    {
     "data": {
      "image/png": "[encoded data removed]",
      "text/plain": [
       "<Figure size 432x288 with 1 Axes>"
      ]
     },
     "metadata": {},
     "output_type": "display_data"
    }
   ],
   "source": [
    "import pandas as pd\n",
    "import matplotlib.pyplot as plt\n",
    "# distribution of polarity\n",
    "polarity_counts =df['polarity'].value_counts(normalize=True)\n",
    "\n",
    "# assign colors for each category\n",
    "colors = ['#3cba54', '#f44336', '#ffe119']\n",
    "\n",
    "# Create a pie chart of the polarity distribution\n",
    "plt.pie(polarity_counts.values, labels=polarity_counts.index, colors=colors, autopct='%1.1f%%', startangle=90)\n",
    "plt.axis('equal')\n",
    "plt.title('Polarity Distribution')\n",
    "plt.legend(title='Polarity', loc='best')\n",
    "plt.show()"
   ]
  },
  {
   "cell_type": "markdown",
   "id": "aa831796",
   "metadata": {},
   "source": [
    "# BiLSTM"
   ]
  },
  {
   "cell_type": "code",
   "execution_count": 7,
   "id": "5c85f746",
   "metadata": {},
   "outputs": [
    {
     "name": "stdout",
     "output_type": "stream",
     "text": [
      "BiLSTM + BiLSTM\n"
     ]
    }
   ],
   "source": [
    "#---------------ContentAttention--------------------\n",
    "# code adopted and modified from : \n",
    "# https://machinelearningmastery.com/adding-a-custom-attention-layer-to-recurrent-neural-network-in-keras/\n",
    "# https://www.kaggle.com/code/haithemhermessi/attention-mechanism-keras-as-simple-as-possible\n",
    "\n",
    "class ContentAttention(Layer):\n",
    "    def __init__(self, **kwargs):\n",
    "        super(ContentAttention, self).__init__(**kwargs)\n",
    "\n",
    "    def build(self, input_shape):\n",
    "        self.W = self.add_weight(name=\"att_weight\", shape=(input_shape[-1], 1), initializer=\"normal\")\n",
    "        self.b = self.add_weight(name=\"att_bias\", shape=(input_shape[1], 1), initializer=\"zeros\")\n",
    "        super(ContentAttention, self).build(input_shape)\n",
    "\n",
    "    def call(self, x):\n",
    "        e = K.tanh(K.dot(x, self.W) + self.b)\n",
    "        a = K.softmax(e, axis=1)\n",
    "        output = x * a\n",
    "        return K.sum(output, axis=1)   \n",
    "#import AveragePooling2D\n",
    "from keras.layers import (AveragePooling1D)\n",
    "from tensorflow.keras import regularizers\n",
    "\n",
    "text_af = 'tanh'\n",
    "text_input = Input(shape=(100,), name='text_input')\n",
    "time_steps = 1000\n",
    "features = 5\n",
    "#----------LSTM1----------------\n",
    "lstm1 = Embedding(input_dim=10000, output_dim=100)(text_input)\n",
    "lstm1 = Dropout(0.25)(lstm1)  # Add a dropout layer\n",
    "lstm1 = Bidirectional(LSTM(64, return_sequences=True, input_shape=(time_steps, features)))(lstm1)\n",
    "#lstm1 = Dense(64, activation=text_af, kernel_regularizer=regularizers.l2(0.01))(lstm1)\n",
    "lstm1 = ContentAttention()(lstm1)\n",
    "lstm1 = Dropout(0.25)(lstm1)  # Add a dropout layer\n",
    "\n",
    "#---------LSTM2-----------------\n",
    "lstm2 = Embedding(input_dim=10000, output_dim=100)(text_input)\n",
    "lstm2 = Dropout(0.5)(lstm2)  # Add a dropout layer\n",
    "lstm2 = Bidirectional(LSTM(128, return_sequences=True, input_shape=(time_steps, features)))(lstm2)\n",
    "#lstm2 = Dense(64, activation=text_af, kernel_regularizer=regularizers.l2(0.01))(lstm2)\n",
    "lstm2 = ContentAttention()(lstm2)\n",
    "lstm2 = Dropout(0.5)(lstm2)  # Add a dropout layer\n",
    "\n",
    "#----------local fusion---------------\n",
    "merged_layer = Concatenate()([lstm1, lstm2]) \n",
    "merged = Dense(3, activation='tanh')(merged_layer)\n",
    "text_output = merged\n",
    "textclassifier ='BiLSTM + BiLSTM'\n",
    "print(textclassifier)"
   ]
  },
  {
   "cell_type": "markdown",
   "id": "c2a319bf",
   "metadata": {},
   "source": [
    "# CNN + VGG"
   ]
  },
  {
   "cell_type": "code",
   "execution_count": 8,
   "id": "833458ef",
   "metadata": {},
   "outputs": [
    {
     "name": "stdout",
     "output_type": "stream",
     "text": [
      "CNN+ VGG\n"
     ]
    }
   ],
   "source": [
    "from tensorflow.keras.layers import Conv2D, MaxPooling2D, Flatten, Concatenate, Dense, Dropout, Input\n",
    "from tensorflow.keras.models import Model\n",
    "from tensorflow.keras.applications import VGG16\n",
    "from tensorflow.keras import regularizers\n",
    "from tensorflow.keras.layers import BatchNormalization\n",
    "\n",
    "imageclassifier = 'CNN+ VGG'\n",
    "\n",
    "# ------------ pipeline1:CNN --------------------------\n",
    "image_input = Input(shape=(imagesize, imagesize, 3), name='image_input')\n",
    "conv1 = Conv2D(32, (3, 3), activation='relu', padding='same')(image_input)\n",
    "pool1 = MaxPooling2D(pool_size=(2, 2))(conv1)\n",
    "pool1 = Dropout(0.25)(pool1)\n",
    "pool1 = BatchNormalization()(pool1)\n",
    "\n",
    "conv2 = Conv2D(64, (3, 3), activation='relu', padding='same')(pool1)\n",
    "pool2 = MaxPooling2D(pool_size=(2, 2))(conv2)\n",
    "pool2 = Dropout(0.25)(pool2)\n",
    "pool2 = BatchNormalization()(pool2)\n",
    "\n",
    "conv3 = Conv2D(128, (3, 3), activation='relu', padding='same')(pool2)\n",
    "pool3 = MaxPooling2D(pool_size=(2, 2))(conv3)\n",
    "pool3 = Dropout(0.25)(pool3)\n",
    "pool3 = BatchNormalization()(pool3)\n",
    "\n",
    "conv4 = Conv2D(256, (3, 3), activation='relu', padding='same')(pool3)\n",
    "pool4 = MaxPooling2D(pool_size=(2, 2))(conv4)\n",
    "pool4 = Dropout(0.25)(pool4)\n",
    "pool4 = BatchNormalization()(pool4)\n",
    "\n",
    "# Add spatial attention to CNN features\n",
    "cnn1_attention = Conv2D(1, (1, 1), activation='sigmoid')(pool4)\n",
    "attended_features = Multiply()([pool4, cnn1_attention])\n",
    "\n",
    "cnn1_flatten = Flatten()(attended_features)\n",
    "#--------------pipeline2:VGG--------------------------------\n",
    "# Load pre-trained VGG16 model\n",
    "vgg16_base = VGG16(weights='imagenet', include_top=False, input_shape=(imagesize, imagesize, 3))\n",
    "\n",
    "# Freeze the weights of the VGG16 layers\n",
    "for layer in vgg16_base.layers:\n",
    "    layer.trainable = False\n",
    "\n",
    "vgg16_features = vgg16_base(image_input)\n",
    "\n",
    "# Add spatial attention to VGG16 features\n",
    "attention = Conv2D(1, (1, 1), activation='sigmoid')(vgg16_features)\n",
    "attended_features = Multiply()([vgg16_features, attention])\n",
    "\n",
    "# Flatten the attended features\n",
    "vgg_flatten = Flatten()(attended_features)\n",
    "\n",
    "#----------local fusion---------------\n",
    "merged_features = Concatenate()([cnn1_flatten, vgg_flatten])\n",
    "\n",
    "# Apply the rest of the model layers\n",
    "merged = Dense(256, activation='relu')(merged_features)\n",
    "merged = Dropout(0.3)(merged)\n",
    "image_output = Dense(3, activation='relu', kernel_regularizer=regularizers.l2(0.05))(merged)\n",
    "\n",
    "print(imageclassifier)"
   ]
  },
  {
   "cell_type": "markdown",
   "id": "f3b67f42",
   "metadata": {},
   "source": [
    "# Early FUSION"
   ]
  },
  {
   "cell_type": "code",
   "execution_count": 9,
   "id": "47e402c0",
   "metadata": {
    "scrolled": true
   },
   "outputs": [
    {
     "name": "stdout",
     "output_type": "stream",
     "text": [
      "Epoch 1/7\n",
      "244/244 [==============================] - 529s 2s/step - loss: 0.8456 - accuracy: 0.7434 - val_loss: 0.7087 - val_accuracy: 0.7704\n",
      "Epoch 2/7\n",
      "244/244 [==============================] - 527s 2s/step - loss: 0.7276 - accuracy: 0.7474 - val_loss: 0.6551 - val_accuracy: 0.7750\n",
      "Epoch 3/7\n",
      "244/244 [==============================] - 519s 2s/step - loss: 0.6500 - accuracy: 0.7610 - val_loss: 0.6462 - val_accuracy: 0.7756\n",
      "Epoch 4/7\n",
      "244/244 [==============================] - 525s 2s/step - loss: 0.5940 - accuracy: 0.7781 - val_loss: 0.6515 - val_accuracy: 0.7684\n",
      "Epoch 5/7\n",
      "244/244 [==============================] - 475s 2s/step - loss: 0.5381 - accuracy: 0.7985 - val_loss: 0.6904 - val_accuracy: 0.7396\n",
      "Epoch 6/7\n",
      "244/244 [==============================] - 524s 2s/step - loss: 0.4943 - accuracy: 0.8200 - val_loss: 0.7228 - val_accuracy: 0.7422\n",
      "Epoch 7/7\n",
      "244/244 [==============================] - 553s 2s/step - loss: 0.4550 - accuracy: 0.8479 - val_loss: 0.7261 - val_accuracy: 0.7437\n",
      "61/61 [==============================] - 42s 685ms/step - loss: 0.7619 - accuracy: 0.7318\n",
      "Test accuracy: 0.7317574620246887\n"
     ]
    }
   ],
   "source": [
    "from keras.optimizers import Adam, Adagrad, RMSprop\n",
    "from keras import backend as K\n",
    "from keras import metrics\n",
    "\n",
    "concatenated = Concatenate()([text_output, image_output])\n",
    "# Final output layers\n",
    "output = Dense(3, activation='softmax')(concatenated)\n",
    "model = Model(inputs=[text_input, image_input], outputs=output)\n",
    "\n",
    "# Compile the model\n",
    "optimizer = Adam(learning_rate=1e-3)\n",
    "model.compile(loss='categorical_crossentropy', optimizer=optimizer, metrics=['accuracy'])\n",
    "\n",
    "# Train the model\n",
    "history = model.fit([X_train_text, X_train_image], y_train, \n",
    "                    validation_data=([X_val_text, X_val_image], y_val),\n",
    "                    epochs=7, \n",
    "                    batch_size=64)\n",
    "\n",
    "# Evaluate the model\n",
    "test_loss, test_acc = model.evaluate([X_test_text, X_test_image], y_test)\n",
    "print('Test accuracy:', test_acc)\n"
   ]
  },
  {
   "cell_type": "code",
   "execution_count": 10,
   "id": "215b8140",
   "metadata": {},
   "outputs": [
    {
     "name": "stdout",
     "output_type": "stream",
     "text": [
      "61/61 [==============================] - 45s 702ms/step\n",
      "***** Text:BiLSTM + BiLSTM Image:CNN+ VGG ***** \n",
      "Classification Report:\n",
      "               precision    recall  f1-score   support\n",
      "\n",
      "           0     0.2263    0.1220    0.1586       254\n",
      "           1     0.7981    0.9144    0.8523      1461\n",
      "           2     0.4222    0.2468    0.3115       231\n",
      "\n",
      "    accuracy                         0.7318      1946\n",
      "   macro avg     0.4822    0.4277    0.4408      1946\n",
      "weighted avg     0.6788    0.7318    0.6976      1946\n",
      "\n"
     ]
    }
   ],
   "source": [
    "from sklearn.metrics import classification_report\n",
    "import numpy as np\n",
    "\n",
    "# Make predictions on test data\n",
    "y_pred = model.predict([X_test_text, X_test_image])\n",
    "\n",
    "# Convert predictions and true labels to class indices\n",
    "y_pred_classes = np.argmax(y_pred, axis=1)\n",
    "y_true_classes = np.argmax(y_test, axis=1)\n",
    "print(f\"***** Text:{textclassifier} Image:{imageclassifier} ***** \")\n",
    "# Generate classification report\n",
    "report = classification_report(y_true_classes, y_pred_classes, digits = 4)\n",
    "\n",
    "# Print the report\n",
    "print('Classification Report:\\n', report)\n"
   ]
  },
  {
   "cell_type": "markdown",
   "id": "a7e0671d",
   "metadata": {},
   "source": [
    "# LATE FUSION"
   ]
  },
  {
   "cell_type": "code",
   "execution_count": 11,
   "id": "1107b2f9",
   "metadata": {},
   "outputs": [
    {
     "name": "stdout",
     "output_type": "stream",
     "text": [
      "61/61 [==============================] - 29s 472ms/step\n",
      "61/61 [==============================] - 31s 503ms/step\n",
      "61/61 [==============================] - 9s 79ms/step\n",
      "61/61 [==============================] - 5s 77ms/step\n",
      "Text:BiLSTM + BiLSTM Image:CNN+ VGG \n"
     ]
    }
   ],
   "source": [
    "#----------------image\n",
    "image_feature_extractor = Model(inputs=image_input, outputs=image_output)\n",
    "\n",
    "val_image_features = image_feature_extractor.predict(X_val_image)\n",
    "test_image_features = image_feature_extractor.predict(X_test_image)\n",
    "\n",
    "#--------------text\n",
    "text_feature_extractor = Model(inputs=text_input, outputs=text_output)\n",
    "\n",
    "val_text_features = text_feature_extractor.predict(X_val_text)\n",
    "test_text_features = text_feature_extractor.predict(X_test_text)\n",
    "\n",
    "#---------------combine\n",
    "val_features = np.concatenate([val_image_features, val_text_features], axis=1)\n",
    "test_features = np.concatenate([test_image_features, test_text_features], axis=1)\n",
    "\n",
    "# Convert validation labels to one-hot encoded vectors\n",
    "y_val_labels = y_val_polar #np.argmax(y_val_image, axis=1)\n",
    "y_test_labels = y_test_polar#np.argmax(y_test_image, axis=1)\n",
    "\n",
    "print(f\"Text:{textclassifier} Image:{imageclassifier} \")"
   ]
  },
  {
   "cell_type": "markdown",
   "id": "3c2d47b7",
   "metadata": {},
   "source": [
    "## XGB"
   ]
  },
  {
   "cell_type": "code",
   "execution_count": 46,
   "id": "a4f1c822",
   "metadata": {},
   "outputs": [
    {
     "name": "stdout",
     "output_type": "stream",
     "text": [
      "Late Fusion Test Accuracy: 72.97%\n",
      "Text:BiLSTM + BiLSTM Image:CNN+ VGG \n",
      "              precision    recall  f1-score   support\n",
      "\n",
      "           0     0.2871    0.1255    0.1747       231\n",
      "           1     0.0909    0.0157    0.0268       254\n",
      "           2     0.7701    0.9493    0.8504      1461\n",
      "\n",
      "    accuracy                         0.7297      1946\n",
      "   macro avg     0.3827    0.3635    0.3506      1946\n",
      "weighted avg     0.6241    0.7297    0.6627      1946\n",
      "\n"
     ]
    }
   ],
   "source": [
    "import xgboost as xgb\n",
    "from sklearn.preprocessing import LabelEncoder\n",
    "\n",
    "# Encode the target variable\n",
    "label_encoder = LabelEncoder()\n",
    "y_val_labels_encoded = label_encoder.fit_transform(y_val_labels)\n",
    "y_test_labels_encoded = label_encoder.transform(y_test_labels)\n",
    "\n",
    "xgb_model = xgb.XGBClassifier(n_estimators=100, max_depth=5) #reg_lambda reg_alpha\n",
    "\n",
    "# Train the XGBoost model\n",
    "xgb_model.fit(val_features, y_val_labels_encoded)\n",
    "\n",
    "# Evaluate the model\n",
    "xgb_score = xgb_model.score(test_features, y_test_labels_encoded)\n",
    "print(\"Late Fusion Test Accuracy: {:.2f}%\".format(xgb_score * 100))\n",
    "\n",
    "y_pred = xgb_model.predict(test_features)\n",
    "print(f\"Text:{textclassifier} Image:{imageclassifier} \")\n",
    "# Print classification report\n",
    "print(classification_report(y_test_labels_encoded, y_pred, digits=4))"
   ]
  },
  {
   "cell_type": "markdown",
   "id": "255302ce",
   "metadata": {},
   "source": [
    "## Random Forest"
   ]
  },
  {
   "cell_type": "code",
   "execution_count": 27,
   "id": "97acb1fd",
   "metadata": {},
   "outputs": [
    {
     "name": "stdout",
     "output_type": "stream",
     "text": [
      "Late Fusion Test Accuracy: 75.75%\n",
      "Text:BiLSTM + BiLSTM Image:CNN+ VGG \n",
      "              precision    recall  f1-score   support\n",
      "\n",
      "          -1     0.4400    0.1905    0.2659       231\n",
      "           0     0.0000    0.0000    0.0000       254\n",
      "           1     0.7746    0.9788    0.8648      1461\n",
      "\n",
      "    accuracy                         0.7575      1946\n",
      "   macro avg     0.4049    0.3898    0.3769      1946\n",
      "weighted avg     0.6338    0.7575    0.6808      1946\n",
      "\n"
     ]
    },
    {
     "name": "stderr",
     "output_type": "stream",
     "text": [
      "C:\\Users\\ausco\\anaconda3\\lib\\site-packages\\sklearn\\metrics\\_classification.py:1248: UndefinedMetricWarning: Precision and F-score are ill-defined and being set to 0.0 in labels with no predicted samples. Use `zero_division` parameter to control this behavior.\n",
      "  _warn_prf(average, modifier, msg_start, len(result))\n",
      "C:\\Users\\ausco\\anaconda3\\lib\\site-packages\\sklearn\\metrics\\_classification.py:1248: UndefinedMetricWarning: Precision and F-score are ill-defined and being set to 0.0 in labels with no predicted samples. Use `zero_division` parameter to control this behavior.\n",
      "  _warn_prf(average, modifier, msg_start, len(result))\n",
      "C:\\Users\\ausco\\anaconda3\\lib\\site-packages\\sklearn\\metrics\\_classification.py:1248: UndefinedMetricWarning: Precision and F-score are ill-defined and being set to 0.0 in labels with no predicted samples. Use `zero_division` parameter to control this behavior.\n",
      "  _warn_prf(average, modifier, msg_start, len(result))\n"
     ]
    }
   ],
   "source": [
    "#--------------logistic Regression\n",
    "from sklearn.ensemble import RandomForestClassifier,GradientBoostingClassifier\n",
    "\n",
    "rf = RandomForestClassifier(n_estimators=100, max_depth=4)\n",
    "\n",
    "rf.fit(val_features, y_val_labels)\n",
    "rf_score = rf.score(test_features, y_test_labels)\n",
    "print(\"Late Fusion Test Accuracy: {:.2f}%\".format(rf_score * 100))\n",
    "#from sklearn.metrics import classification_report\n",
    "\n",
    "# Predict labels for test data\n",
    "y_pred = rf.predict(test_features)\n",
    "print(f\"Text:{textclassifier} Image:{imageclassifier} \")\n",
    "# Print classification report\n",
    "print(classification_report(y_test_labels, y_pred, digits=4))"
   ]
  },
  {
   "cell_type": "markdown",
   "id": "d4561f70",
   "metadata": {},
   "source": [
    "## Logistic Regression"
   ]
  },
  {
   "cell_type": "code",
   "execution_count": 30,
   "id": "79490cdd",
   "metadata": {},
   "outputs": [
    {
     "name": "stdout",
     "output_type": "stream",
     "text": [
      "Late Fusion Test Accuracy: 75.64%\n",
      "Text:BiLSTM + BiLSTM Image:CNN+ VGG \n",
      "              precision    recall  f1-score   support\n",
      "\n",
      "          -1     0.4322    0.2208    0.2923       231\n",
      "           0     0.0000    0.0000    0.0000       254\n",
      "           1     0.7774    0.9726    0.8641      1461\n",
      "\n",
      "    accuracy                         0.7564      1946\n",
      "   macro avg     0.4032    0.3978    0.3855      1946\n",
      "weighted avg     0.6349    0.7564    0.6834      1946\n",
      "\n"
     ]
    },
    {
     "name": "stderr",
     "output_type": "stream",
     "text": [
      "C:\\Users\\ausco\\anaconda3\\lib\\site-packages\\sklearn\\metrics\\_classification.py:1248: UndefinedMetricWarning: Precision and F-score are ill-defined and being set to 0.0 in labels with no predicted samples. Use `zero_division` parameter to control this behavior.\n",
      "  _warn_prf(average, modifier, msg_start, len(result))\n",
      "C:\\Users\\ausco\\anaconda3\\lib\\site-packages\\sklearn\\metrics\\_classification.py:1248: UndefinedMetricWarning: Precision and F-score are ill-defined and being set to 0.0 in labels with no predicted samples. Use `zero_division` parameter to control this behavior.\n",
      "  _warn_prf(average, modifier, msg_start, len(result))\n",
      "C:\\Users\\ausco\\anaconda3\\lib\\site-packages\\sklearn\\metrics\\_classification.py:1248: UndefinedMetricWarning: Precision and F-score are ill-defined and being set to 0.0 in labels with no predicted samples. Use `zero_division` parameter to control this behavior.\n",
      "  _warn_prf(average, modifier, msg_start, len(result))\n"
     ]
    }
   ],
   "source": [
    "#--------------logistic Regression\n",
    "from sklearn.linear_model import LogisticRegression\n",
    "lr = LogisticRegression()\n",
    "\n",
    "lr.fit(val_features, y_val_labels)\n",
    "lr_score = lr.score(test_features, y_test_labels)\n",
    "print(\"Late Fusion Test Accuracy: {:.2f}%\".format(lr_score * 100))\n",
    "#from sklearn.metrics import classification_report\n",
    "\n",
    "# Predict labels for test data\n",
    "y_pred = lr.predict(test_features)\n",
    "print(f\"Text:{textclassifier} Image:{imageclassifier} \")\n",
    "# Print classification report\n",
    "print(classification_report(y_test_labels, y_pred, digits=4))"
   ]
  },
  {
   "cell_type": "markdown",
   "id": "71c39f9d",
   "metadata": {},
   "source": [
    "# MLP"
   ]
  },
  {
   "cell_type": "code",
   "execution_count": 49,
   "id": "1e95d3aa",
   "metadata": {},
   "outputs": [
    {
     "name": "stdout",
     "output_type": "stream",
     "text": [
      "Late Fusion Test Accuracy: 75.75%\n",
      "              precision    recall  f1-score   support\n",
      "\n",
      "          -1     0.4396    0.1732    0.2484       231\n",
      "           0     0.4286    0.0118    0.0230       254\n",
      "           1     0.7744    0.9795    0.8649      1461\n",
      "\n",
      "    accuracy                         0.7575      1946\n",
      "   macro avg     0.5475    0.3881    0.3788      1946\n",
      "weighted avg     0.6895    0.7575    0.6818      1946\n",
      "\n"
     ]
    },
    {
     "name": "stderr",
     "output_type": "stream",
     "text": [
      "C:\\Users\\ausco\\anaconda3\\lib\\site-packages\\sklearn\\neural_network\\_multilayer_perceptron.py:500: ConvergenceWarning: lbfgs failed to converge (status=1):\n",
      "STOP: TOTAL NO. of ITERATIONS REACHED LIMIT.\n",
      "\n",
      "Increase the number of iterations (max_iter) or scale the data as shown in:\n",
      "    https://scikit-learn.org/stable/modules/preprocessing.html\n",
      "  self.n_iter_ = _check_optimize_result(\"lbfgs\", opt_res, self.max_iter)\n"
     ]
    }
   ],
   "source": [
    "from sklearn.neural_network import MLPClassifier\n",
    "from sklearn.metrics import classification_report\n",
    "\n",
    "# Create an MLP classifier\n",
    "mlp = MLPClassifier(hidden_layer_sizes=(128, 32), \n",
    "                    activation='relu', solver='lbfgs', learning_rate = 'invscaling')\n",
    "\n",
    "# Fit the classifier to the training data\n",
    "mlp.fit(val_features, y_val_labels)\n",
    "\n",
    "# Evaluate the classifier on the test data\n",
    "mlp_score = mlp.score(test_features, y_test_labels)\n",
    "print(\"Late Fusion Test Accuracy: {:.2f}%\".format(mlp_score * 100))\n",
    "\n",
    "# Predict labels for the test data\n",
    "y_pred = mlp.predict(test_features)\n",
    "\n",
    "# Print classification report\n",
    "print(classification_report(y_test_labels, y_pred, digits=4))"
   ]
  },
  {
   "cell_type": "code",
   "execution_count": 28,
   "id": "50bd247f",
   "metadata": {},
   "outputs": [
    {
     "data": {
      "image/png": "[encoded data removed]",
      "text/plain": [
       "<Figure size 720x288 with 2 Axes>"
      ]
     },
     "metadata": {
      "needs_background": "light"
     },
     "output_type": "display_data"
    }
   ],
   "source": [
    "plot16.plot_hist(history, 'Multimodal Fusion')"
   ]
  },
  {
   "cell_type": "markdown",
   "id": "77f52585",
   "metadata": {},
   "source": [
    "# AUC-ROC"
   ]
  },
  {
   "cell_type": "code",
   "execution_count": 29,
   "id": "a68a0742",
   "metadata": {},
   "outputs": [
    {
     "name": "stdout",
     "output_type": "stream",
     "text": [
      "61/61 [==============================] - 30s 499ms/step\n"
     ]
    },
    {
     "data": {
      "image/png": "[encoded data removed]",
      "text/plain": [
       "<Figure size 576x432 with 1 Axes>"
      ]
     },
     "metadata": {
      "needs_background": "light"
     },
     "output_type": "display_data"
    }
   ],
   "source": [
    "X_test = [X_test_text, X_test_image]\n",
    "plot16.plot_roc(model, X_test, y_test)"
   ]
  }
 ],
 "metadata": {
  "kernelspec": {
   "display_name": "Python 3 (ipykernel)",
   "language": "python",
   "name": "python3"
  },
  "language_info": {
   "codemirror_mode": {
    "name": "ipython",
    "version": 3
   },
   "file_extension": ".py",
   "mimetype": "text/x-python",
   "name": "python",
   "nbconvert_exporter": "python",
   "pygments_lexer": "ipython3",
   "version": "3.9.7"
  }
 },
 "nbformat": 4,
 "nbformat_minor": 5
}
